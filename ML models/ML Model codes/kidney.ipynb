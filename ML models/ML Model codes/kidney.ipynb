{
 "metadata": {
  "language_info": {
   "codemirror_mode": {
    "name": "ipython",
    "version": 3
   },
   "file_extension": ".py",
   "mimetype": "text/x-python",
   "name": "python",
   "nbconvert_exporter": "python",
   "pygments_lexer": "ipython3",
   "version": "3.7.9-final"
  },
  "orig_nbformat": 2,
  "kernelspec": {
   "name": "python3",
   "display_name": "Python 3.7.9 64-bit",
   "metadata": {
    "interpreter": {
     "hash": "355204b86a3f1cb9f96e1fedf91584cb80dee76dd9d7cc254d824b64f85fa7f6"
    }
   }
  }
 },
 "nbformat": 4,
 "nbformat_minor": 2,
 "cells": [
  {
   "cell_type": "code",
   "execution_count": 1,
   "metadata": {},
   "outputs": [],
   "source": [
    "import numpy as np\n",
    "import pandas as pd\n",
    "from sklearn import ensemble\n",
    "from sklearn.model_selection import train_test_split\n",
    "from sklearn.metrics import accuracy_score, classification_report, confusion_matrix\n",
    "import joblib"
   ]
  },
  {
   "cell_type": "code",
   "execution_count": 2,
   "metadata": {},
   "outputs": [
    {
     "output_type": "execute_result",
     "data": {
      "text/plain": [
       "   id   age    bp     sg   al   su     rbc        pc         pcc          ba  \\\n",
       "0   0  48.0  80.0  1.020  1.0  0.0     NaN    normal  notpresent  notpresent   \n",
       "1   1   7.0  50.0  1.020  4.0  0.0     NaN    normal  notpresent  notpresent   \n",
       "2   2  62.0  80.0  1.010  2.0  3.0  normal    normal  notpresent  notpresent   \n",
       "3   3  48.0  70.0  1.005  4.0  0.0  normal  abnormal     present  notpresent   \n",
       "4   4  51.0  80.0  1.010  2.0  0.0  normal    normal  notpresent  notpresent   \n",
       "\n",
       "   ...  pcv    wc   rc  htn   dm  cad appet   pe  ane classification  \n",
       "0  ...   44  7800  5.2  yes  yes   no  good   no   no            ckd  \n",
       "1  ...   38  6000  NaN   no   no   no  good   no   no            ckd  \n",
       "2  ...   31  7500  NaN   no  yes   no  poor   no  yes            ckd  \n",
       "3  ...   32  6700  3.9  yes   no   no  poor  yes  yes            ckd  \n",
       "4  ...   35  7300  4.6   no   no   no  good   no   no            ckd  \n",
       "\n",
       "[5 rows x 26 columns]"
      ],
      "text/html": "<div>\n<style scoped>\n    .dataframe tbody tr th:only-of-type {\n        vertical-align: middle;\n    }\n\n    .dataframe tbody tr th {\n        vertical-align: top;\n    }\n\n    .dataframe thead th {\n        text-align: right;\n    }\n</style>\n<table border=\"1\" class=\"dataframe\">\n  <thead>\n    <tr style=\"text-align: right;\">\n      <th></th>\n      <th>id</th>\n      <th>age</th>\n      <th>bp</th>\n      <th>sg</th>\n      <th>al</th>\n      <th>su</th>\n      <th>rbc</th>\n      <th>pc</th>\n      <th>pcc</th>\n      <th>ba</th>\n      <th>...</th>\n      <th>pcv</th>\n      <th>wc</th>\n      <th>rc</th>\n      <th>htn</th>\n      <th>dm</th>\n      <th>cad</th>\n      <th>appet</th>\n      <th>pe</th>\n      <th>ane</th>\n      <th>classification</th>\n    </tr>\n  </thead>\n  <tbody>\n    <tr>\n      <th>0</th>\n      <td>0</td>\n      <td>48.0</td>\n      <td>80.0</td>\n      <td>1.020</td>\n      <td>1.0</td>\n      <td>0.0</td>\n      <td>NaN</td>\n      <td>normal</td>\n      <td>notpresent</td>\n      <td>notpresent</td>\n      <td>...</td>\n      <td>44</td>\n      <td>7800</td>\n      <td>5.2</td>\n      <td>yes</td>\n      <td>yes</td>\n      <td>no</td>\n      <td>good</td>\n      <td>no</td>\n      <td>no</td>\n      <td>ckd</td>\n    </tr>\n    <tr>\n      <th>1</th>\n      <td>1</td>\n      <td>7.0</td>\n      <td>50.0</td>\n      <td>1.020</td>\n      <td>4.0</td>\n      <td>0.0</td>\n      <td>NaN</td>\n      <td>normal</td>\n      <td>notpresent</td>\n      <td>notpresent</td>\n      <td>...</td>\n      <td>38</td>\n      <td>6000</td>\n      <td>NaN</td>\n      <td>no</td>\n      <td>no</td>\n      <td>no</td>\n      <td>good</td>\n      <td>no</td>\n      <td>no</td>\n      <td>ckd</td>\n    </tr>\n    <tr>\n      <th>2</th>\n      <td>2</td>\n      <td>62.0</td>\n      <td>80.0</td>\n      <td>1.010</td>\n      <td>2.0</td>\n      <td>3.0</td>\n      <td>normal</td>\n      <td>normal</td>\n      <td>notpresent</td>\n      <td>notpresent</td>\n      <td>...</td>\n      <td>31</td>\n      <td>7500</td>\n      <td>NaN</td>\n      <td>no</td>\n      <td>yes</td>\n      <td>no</td>\n      <td>poor</td>\n      <td>no</td>\n      <td>yes</td>\n      <td>ckd</td>\n    </tr>\n    <tr>\n      <th>3</th>\n      <td>3</td>\n      <td>48.0</td>\n      <td>70.0</td>\n      <td>1.005</td>\n      <td>4.0</td>\n      <td>0.0</td>\n      <td>normal</td>\n      <td>abnormal</td>\n      <td>present</td>\n      <td>notpresent</td>\n      <td>...</td>\n      <td>32</td>\n      <td>6700</td>\n      <td>3.9</td>\n      <td>yes</td>\n      <td>no</td>\n      <td>no</td>\n      <td>poor</td>\n      <td>yes</td>\n      <td>yes</td>\n      <td>ckd</td>\n    </tr>\n    <tr>\n      <th>4</th>\n      <td>4</td>\n      <td>51.0</td>\n      <td>80.0</td>\n      <td>1.010</td>\n      <td>2.0</td>\n      <td>0.0</td>\n      <td>normal</td>\n      <td>normal</td>\n      <td>notpresent</td>\n      <td>notpresent</td>\n      <td>...</td>\n      <td>35</td>\n      <td>7300</td>\n      <td>4.6</td>\n      <td>no</td>\n      <td>no</td>\n      <td>no</td>\n      <td>good</td>\n      <td>no</td>\n      <td>no</td>\n      <td>ckd</td>\n    </tr>\n  </tbody>\n</table>\n<p>5 rows × 26 columns</p>\n</div>"
     },
     "metadata": {},
     "execution_count": 2
    }
   ],
   "source": [
    "df = pd.read_csv(r\"E:\\Adhil\\web\\flask\\Health-App-main\\data\\kidney.csv\")\n",
    "df.head()"
   ]
  },
  {
   "cell_type": "code",
   "execution_count": 3,
   "metadata": {},
   "outputs": [],
   "source": [
    "df.drop('id',axis=1,inplace=True)\n",
    "df = df.dropna(axis=0)"
   ]
  },
  {
   "cell_type": "code",
   "execution_count": 4,
   "metadata": {},
   "outputs": [],
   "source": [
    "df[['rbc','pc']] = df[['rbc','pc']].replace(to_replace={'abnormal':1,'normal':0})\n",
    "df[['pcc','ba']] = df[['pcc','ba']].replace(to_replace={'present':1,'notpresent':0})"
   ]
  },
  {
   "cell_type": "code",
   "execution_count": 8,
   "metadata": {},
   "outputs": [
    {
     "output_type": "execute_result",
     "data": {
      "text/plain": [
       "     age  Blood Pressure  Sugar  Albumin  Blood Sugar Level  \\\n",
       "3   48.0            70.0  1.005      4.0                0.0   \n",
       "9   53.0            90.0  1.020      2.0                0.0   \n",
       "11  63.0            70.0  1.010      3.0                0.0   \n",
       "14  68.0            80.0  1.010      3.0                2.0   \n",
       "20  61.0            80.0  1.015      2.0                0.0   \n",
       "\n",
       "    Red Blood Cells Count  Pus Cell Count  Pus Cell Clumps  ba    bgr  ...  \\\n",
       "3                       0               1                1   0  117.0  ...   \n",
       "9                       1               1                1   0   70.0  ...   \n",
       "11                      1               1                1   0  380.0  ...   \n",
       "14                      0               1                1   1  157.0  ...   \n",
       "20                      1               1                0   0  173.0  ...   \n",
       "\n",
       "    pcv     wc   rc  htn   dm  cad appet   pe  ane classification  \n",
       "3    32   6700  3.9  yes   no   no  poor  yes  yes            ckd  \n",
       "9    29  12100  3.7  yes  yes   no  poor   no  yes            ckd  \n",
       "11   32   4500  3.8  yes  yes   no  poor  yes   no            ckd  \n",
       "14   16  11000  2.6  yes  yes  yes  poor  yes   no            ckd  \n",
       "20   24   9200  3.2  yes  yes  yes  poor  yes  yes            ckd  \n",
       "\n",
       "[5 rows x 25 columns]"
      ],
      "text/html": "<div>\n<style scoped>\n    .dataframe tbody tr th:only-of-type {\n        vertical-align: middle;\n    }\n\n    .dataframe tbody tr th {\n        vertical-align: top;\n    }\n\n    .dataframe thead th {\n        text-align: right;\n    }\n</style>\n<table border=\"1\" class=\"dataframe\">\n  <thead>\n    <tr style=\"text-align: right;\">\n      <th></th>\n      <th>age</th>\n      <th>Blood Pressure</th>\n      <th>Sugar</th>\n      <th>Albumin</th>\n      <th>Blood Sugar Level</th>\n      <th>Red Blood Cells Count</th>\n      <th>Pus Cell Count</th>\n      <th>Pus Cell Clumps</th>\n      <th>ba</th>\n      <th>bgr</th>\n      <th>...</th>\n      <th>pcv</th>\n      <th>wc</th>\n      <th>rc</th>\n      <th>htn</th>\n      <th>dm</th>\n      <th>cad</th>\n      <th>appet</th>\n      <th>pe</th>\n      <th>ane</th>\n      <th>classification</th>\n    </tr>\n  </thead>\n  <tbody>\n    <tr>\n      <th>3</th>\n      <td>48.0</td>\n      <td>70.0</td>\n      <td>1.005</td>\n      <td>4.0</td>\n      <td>0.0</td>\n      <td>0</td>\n      <td>1</td>\n      <td>1</td>\n      <td>0</td>\n      <td>117.0</td>\n      <td>...</td>\n      <td>32</td>\n      <td>6700</td>\n      <td>3.9</td>\n      <td>yes</td>\n      <td>no</td>\n      <td>no</td>\n      <td>poor</td>\n      <td>yes</td>\n      <td>yes</td>\n      <td>ckd</td>\n    </tr>\n    <tr>\n      <th>9</th>\n      <td>53.0</td>\n      <td>90.0</td>\n      <td>1.020</td>\n      <td>2.0</td>\n      <td>0.0</td>\n      <td>1</td>\n      <td>1</td>\n      <td>1</td>\n      <td>0</td>\n      <td>70.0</td>\n      <td>...</td>\n      <td>29</td>\n      <td>12100</td>\n      <td>3.7</td>\n      <td>yes</td>\n      <td>yes</td>\n      <td>no</td>\n      <td>poor</td>\n      <td>no</td>\n      <td>yes</td>\n      <td>ckd</td>\n    </tr>\n    <tr>\n      <th>11</th>\n      <td>63.0</td>\n      <td>70.0</td>\n      <td>1.010</td>\n      <td>3.0</td>\n      <td>0.0</td>\n      <td>1</td>\n      <td>1</td>\n      <td>1</td>\n      <td>0</td>\n      <td>380.0</td>\n      <td>...</td>\n      <td>32</td>\n      <td>4500</td>\n      <td>3.8</td>\n      <td>yes</td>\n      <td>yes</td>\n      <td>no</td>\n      <td>poor</td>\n      <td>yes</td>\n      <td>no</td>\n      <td>ckd</td>\n    </tr>\n    <tr>\n      <th>14</th>\n      <td>68.0</td>\n      <td>80.0</td>\n      <td>1.010</td>\n      <td>3.0</td>\n      <td>2.0</td>\n      <td>0</td>\n      <td>1</td>\n      <td>1</td>\n      <td>1</td>\n      <td>157.0</td>\n      <td>...</td>\n      <td>16</td>\n      <td>11000</td>\n      <td>2.6</td>\n      <td>yes</td>\n      <td>yes</td>\n      <td>yes</td>\n      <td>poor</td>\n      <td>yes</td>\n      <td>no</td>\n      <td>ckd</td>\n    </tr>\n    <tr>\n      <th>20</th>\n      <td>61.0</td>\n      <td>80.0</td>\n      <td>1.015</td>\n      <td>2.0</td>\n      <td>0.0</td>\n      <td>1</td>\n      <td>1</td>\n      <td>0</td>\n      <td>0</td>\n      <td>173.0</td>\n      <td>...</td>\n      <td>24</td>\n      <td>9200</td>\n      <td>3.2</td>\n      <td>yes</td>\n      <td>yes</td>\n      <td>yes</td>\n      <td>poor</td>\n      <td>yes</td>\n      <td>yes</td>\n      <td>ckd</td>\n    </tr>\n  </tbody>\n</table>\n<p>5 rows × 25 columns</p>\n</div>"
     },
     "metadata": {},
     "execution_count": 8
    }
   ],
   "source": [
    "df.head()"
   ]
  },
  {
   "cell_type": "code",
   "execution_count": 6,
   "metadata": {},
   "outputs": [],
   "source": [
    "df.rename(columns={'bp':'Blood Pressure'},inplace=True)\n",
    "df.rename(columns={'sg':'Sugar'},inplace=True)\n",
    "df.rename(columns={'al':'Albumin'},inplace=True)\n",
    "df.rename(columns={'su':'Blood Sugar Level'},inplace=True)\n",
    "df.rename(columns={'rbc':'Red Blood Cells Count'},inplace=True)\n",
    "df.rename(columns={'pc':'Pus Cell Count'},inplace=True)\n",
    "df.rename(columns={'pcc':'Pus Cell Clumps'},inplace=True)"
   ]
  },
  {
   "cell_type": "code",
   "execution_count": 9,
   "metadata": {},
   "outputs": [],
   "source": [
    "df['classification'] = df['classification'].replace(to_replace={'ckd':1.0,'ckd\\t':1.0,'notckd':0.0,'no':0.0})"
   ]
  },
  {
   "cell_type": "code",
   "execution_count": 10,
   "metadata": {},
   "outputs": [],
   "source": [
    "df.rename(columns={'classification':'class'},inplace=True)"
   ]
  },
  {
   "cell_type": "code",
   "execution_count": 11,
   "metadata": {},
   "outputs": [
    {
     "output_type": "execute_result",
     "data": {
      "text/plain": [
       "     age  Blood Pressure  Sugar  Albumin  Blood Sugar Level  \\\n",
       "3   48.0            70.0  1.005      4.0                0.0   \n",
       "9   53.0            90.0  1.020      2.0                0.0   \n",
       "11  63.0            70.0  1.010      3.0                0.0   \n",
       "14  68.0            80.0  1.010      3.0                2.0   \n",
       "20  61.0            80.0  1.015      2.0                0.0   \n",
       "\n",
       "    Red Blood Cells Count  Pus Cell Count  Pus Cell Clumps  ba    bgr  ...  \\\n",
       "3                       0               1                1   0  117.0  ...   \n",
       "9                       1               1                1   0   70.0  ...   \n",
       "11                      1               1                1   0  380.0  ...   \n",
       "14                      0               1                1   1  157.0  ...   \n",
       "20                      1               1                0   0  173.0  ...   \n",
       "\n",
       "    pcv     wc   rc  htn   dm  cad appet   pe  ane class  \n",
       "3    32   6700  3.9  yes   no   no  poor  yes  yes   1.0  \n",
       "9    29  12100  3.7  yes  yes   no  poor   no  yes   1.0  \n",
       "11   32   4500  3.8  yes  yes   no  poor  yes   no   1.0  \n",
       "14   16  11000  2.6  yes  yes  yes  poor  yes   no   1.0  \n",
       "20   24   9200  3.2  yes  yes  yes  poor  yes  yes   1.0  \n",
       "\n",
       "[5 rows x 25 columns]"
      ],
      "text/html": "<div>\n<style scoped>\n    .dataframe tbody tr th:only-of-type {\n        vertical-align: middle;\n    }\n\n    .dataframe tbody tr th {\n        vertical-align: top;\n    }\n\n    .dataframe thead th {\n        text-align: right;\n    }\n</style>\n<table border=\"1\" class=\"dataframe\">\n  <thead>\n    <tr style=\"text-align: right;\">\n      <th></th>\n      <th>age</th>\n      <th>Blood Pressure</th>\n      <th>Sugar</th>\n      <th>Albumin</th>\n      <th>Blood Sugar Level</th>\n      <th>Red Blood Cells Count</th>\n      <th>Pus Cell Count</th>\n      <th>Pus Cell Clumps</th>\n      <th>ba</th>\n      <th>bgr</th>\n      <th>...</th>\n      <th>pcv</th>\n      <th>wc</th>\n      <th>rc</th>\n      <th>htn</th>\n      <th>dm</th>\n      <th>cad</th>\n      <th>appet</th>\n      <th>pe</th>\n      <th>ane</th>\n      <th>class</th>\n    </tr>\n  </thead>\n  <tbody>\n    <tr>\n      <th>3</th>\n      <td>48.0</td>\n      <td>70.0</td>\n      <td>1.005</td>\n      <td>4.0</td>\n      <td>0.0</td>\n      <td>0</td>\n      <td>1</td>\n      <td>1</td>\n      <td>0</td>\n      <td>117.0</td>\n      <td>...</td>\n      <td>32</td>\n      <td>6700</td>\n      <td>3.9</td>\n      <td>yes</td>\n      <td>no</td>\n      <td>no</td>\n      <td>poor</td>\n      <td>yes</td>\n      <td>yes</td>\n      <td>1.0</td>\n    </tr>\n    <tr>\n      <th>9</th>\n      <td>53.0</td>\n      <td>90.0</td>\n      <td>1.020</td>\n      <td>2.0</td>\n      <td>0.0</td>\n      <td>1</td>\n      <td>1</td>\n      <td>1</td>\n      <td>0</td>\n      <td>70.0</td>\n      <td>...</td>\n      <td>29</td>\n      <td>12100</td>\n      <td>3.7</td>\n      <td>yes</td>\n      <td>yes</td>\n      <td>no</td>\n      <td>poor</td>\n      <td>no</td>\n      <td>yes</td>\n      <td>1.0</td>\n    </tr>\n    <tr>\n      <th>11</th>\n      <td>63.0</td>\n      <td>70.0</td>\n      <td>1.010</td>\n      <td>3.0</td>\n      <td>0.0</td>\n      <td>1</td>\n      <td>1</td>\n      <td>1</td>\n      <td>0</td>\n      <td>380.0</td>\n      <td>...</td>\n      <td>32</td>\n      <td>4500</td>\n      <td>3.8</td>\n      <td>yes</td>\n      <td>yes</td>\n      <td>no</td>\n      <td>poor</td>\n      <td>yes</td>\n      <td>no</td>\n      <td>1.0</td>\n    </tr>\n    <tr>\n      <th>14</th>\n      <td>68.0</td>\n      <td>80.0</td>\n      <td>1.010</td>\n      <td>3.0</td>\n      <td>2.0</td>\n      <td>0</td>\n      <td>1</td>\n      <td>1</td>\n      <td>1</td>\n      <td>157.0</td>\n      <td>...</td>\n      <td>16</td>\n      <td>11000</td>\n      <td>2.6</td>\n      <td>yes</td>\n      <td>yes</td>\n      <td>yes</td>\n      <td>poor</td>\n      <td>yes</td>\n      <td>no</td>\n      <td>1.0</td>\n    </tr>\n    <tr>\n      <th>20</th>\n      <td>61.0</td>\n      <td>80.0</td>\n      <td>1.015</td>\n      <td>2.0</td>\n      <td>0.0</td>\n      <td>1</td>\n      <td>1</td>\n      <td>0</td>\n      <td>0</td>\n      <td>173.0</td>\n      <td>...</td>\n      <td>24</td>\n      <td>9200</td>\n      <td>3.2</td>\n      <td>yes</td>\n      <td>yes</td>\n      <td>yes</td>\n      <td>poor</td>\n      <td>yes</td>\n      <td>yes</td>\n      <td>1.0</td>\n    </tr>\n  </tbody>\n</table>\n<p>5 rows × 25 columns</p>\n</div>"
     },
     "metadata": {},
     "execution_count": 11
    }
   ],
   "source": [
    "df.head()"
   ]
  },
  {
   "cell_type": "code",
   "execution_count": 12,
   "metadata": {},
   "outputs": [],
   "source": [
    "cols = ['Blood Pressure', 'Sugar', 'Albumin', 'Blood Sugar Level', 'Red Blood Cells Count', 'Pus Cell Count', 'Pus Cell Clumps']\n",
    "X = df[cols]\n",
    "y = df['class']"
   ]
  },
  {
   "cell_type": "code",
   "execution_count": 14,
   "metadata": {},
   "outputs": [
    {
     "output_type": "stream",
     "name": "stdout",
     "text": [
      "Shape training set: X:(105, 7), y:(105,)\nShape test set: X:(53, 7), y:(53,)\n"
     ]
    }
   ],
   "source": [
    "X_train, X_test, y_train, y_test = train_test_split(X, y, test_size = 0.33, random_state=44, stratify= y)\n",
    "print('Shape training set: X:{}, y:{}'.format(X_train.shape, y_train.shape))\n",
    "print('Shape test set: X:{}, y:{}'.format(X_test.shape, y_test.shape))"
   ]
  },
  {
   "cell_type": "code",
   "execution_count": 15,
   "metadata": {},
   "outputs": [
    {
     "output_type": "stream",
     "name": "stdout",
     "text": [
      "Accuracy : 0.9811320754716981\n"
     ]
    }
   ],
   "source": [
    "model = ensemble.RandomForestClassifier()\n",
    "model.fit(X_train, y_train)\n",
    "y_pred = model.predict(X_test)\n",
    "print('Accuracy : {}'.format(accuracy_score(y_test, y_pred)))"
   ]
  },
  {
   "cell_type": "code",
   "execution_count": 16,
   "metadata": {},
   "outputs": [
    {
     "output_type": "stream",
     "name": "stdout",
     "text": [
      "Classification report\n---------------------\n              precision    recall  f1-score   support\n\n         0.0       0.97      1.00      0.99        39\n         1.0       1.00      0.93      0.96        14\n\n    accuracy                           0.98        53\n   macro avg       0.99      0.96      0.98        53\nweighted avg       0.98      0.98      0.98        53\n\n_____________________\n"
     ]
    }
   ],
   "source": [
    "clf_report = classification_report(y_test, y_pred)\n",
    "print('Classification report')\n",
    "print(\"---------------------\")\n",
    "print(clf_report)\n",
    "print(\"_____________________\")"
   ]
  },
  {
   "cell_type": "code",
   "execution_count": 17,
   "metadata": {},
   "outputs": [
    {
     "output_type": "execute_result",
     "data": {
      "text/plain": [
       "['E:\\\\Adhil\\\\web\\\\flask\\\\kidney_api-main\\\\kidney_model.pkl']"
      ]
     },
     "metadata": {},
     "execution_count": 17
    }
   ],
   "source": [
    "joblib.dump(model,r\"E:\\Adhil\\web\\flask\\kidney_api-main\\kidney_model.pkl\")"
   ]
  },
  {
   "cell_type": "code",
   "execution_count": null,
   "metadata": {},
   "outputs": [],
   "source": []
  }
 ]
}